{
 "cells": [
  {
   "cell_type": "code",
   "execution_count": 1,
   "id": "89842d6e",
   "metadata": {},
   "outputs": [],
   "source": [
    "import numpy as np\n",
    "import sklearn as sk\n",
    "import pandas as pd\n",
    "import pickle\n",
    "from sklearn.utils import shuffle"
   ]
  },
  {
   "cell_type": "code",
   "execution_count": 2,
   "id": "a6def1a8",
   "metadata": {},
   "outputs": [],
   "source": [
    "#set start and end for our time window. 1sec = 32 ticks. 5sec before target is killed(interval 160) and 1sec afterwards.\n",
    "START_INTERVAL = 0\n",
    "END_INTERVAL = 192"
   ]
  },
  {
   "cell_type": "code",
   "execution_count": 3,
   "id": "6878f04a",
   "metadata": {},
   "outputs": [],
   "source": [
    "legit = np.load('./data/legit/legit.npy')"
   ]
  },
  {
   "cell_type": "code",
   "execution_count": 4,
   "id": "6ab07544",
   "metadata": {},
   "outputs": [
    {
     "name": "stdout",
     "output_type": "stream",
     "text": [
      "(10000, 30, 192, 5)\n",
      "(30, 192, 5)\n"
     ]
    }
   ],
   "source": [
    "print(legit.shape)\n",
    "print(legit[0].shape)"
   ]
  },
  {
   "cell_type": "code",
   "execution_count": 5,
   "id": "33e66933",
   "metadata": {},
   "outputs": [],
   "source": [
    "legit = legit.reshape(300000, 192, 5)\n",
    "legit = legit[:, START_INTERVAL:END_INTERVAL, :]\n",
    "legit = legit.reshape(300000, (END_INTERVAL-START_INTERVAL)*5)"
   ]
  },
  {
   "cell_type": "code",
   "execution_count": 6,
   "id": "f61057e3",
   "metadata": {},
   "outputs": [],
   "source": [
    "columns = []\n",
    "for i in range(START_INTERVAL, END_INTERVAL):\n",
    "    columns = columns + [\"dYaw_\"+str(i), \"dPitch_\"+str(i), \"ctvYaw_\"+str(i), \"ctvPitch_\"+str(i), \"firing_\"+str(i)]"
   ]
  },
  {
   "cell_type": "code",
   "execution_count": 7,
   "id": "b9ea308b",
   "metadata": {},
   "outputs": [],
   "source": [
    "dYaw_cols, dPitch_cols, ctvYaw_cols, ctvPitch_cols, firing_cols = [\"dYaw_\"+str(i) for i in range(START_INTERVAL, END_INTERVAL)], [\"dPitch_\"+str(i) for i in range(START_INTERVAL, END_INTERVAL)], [\"ctvYaw_\"+str(i) for i in range(START_INTERVAL, END_INTERVAL)], [\"ctvPitch_\"+str(i) for i in range(START_INTERVAL, END_INTERVAL)], [\"firing_\"+str(i) for i in range(START_INTERVAL, END_INTERVAL)] \n",
    "legitDf = pd.DataFrame(legit, columns=columns)\n",
    "legitDf[\"status\"] = 'legit'"
   ]
  },
  {
   "cell_type": "code",
   "execution_count": 8,
   "id": "bf9e46f3",
   "metadata": {},
   "outputs": [],
   "source": [
    "cheaters = np.load('./data/cheaters/cheaters.npy')"
   ]
  },
  {
   "cell_type": "code",
   "execution_count": 9,
   "id": "47f9592e",
   "metadata": {},
   "outputs": [
    {
     "name": "stdout",
     "output_type": "stream",
     "text": [
      "(2000, 30, 192, 5)\n"
     ]
    }
   ],
   "source": [
    "print(cheaters.shape)"
   ]
  },
  {
   "cell_type": "code",
   "execution_count": 10,
   "id": "af50002c",
   "metadata": {},
   "outputs": [],
   "source": [
    "cheaters = cheaters.reshape(60000, 192, 5)\n",
    "cheaters = cheaters[:, START_INTERVAL:END_INTERVAL, :]\n",
    "cheaters = cheaters.reshape(60000, (END_INTERVAL-START_INTERVAL)*5)"
   ]
  },
  {
   "cell_type": "code",
   "execution_count": 11,
   "id": "cea01f6c",
   "metadata": {},
   "outputs": [],
   "source": [
    "cheatersDf = pd.DataFrame(cheaters, columns=columns)\n",
    "cheatersDf[\"status\"] = 'cheater'"
   ]
  },
  {
   "cell_type": "code",
   "execution_count": 12,
   "id": "501a3ec6",
   "metadata": {},
   "outputs": [],
   "source": [
    "df = pd.concat([legitDf, cheatersDf], ignore_index=True)\n",
    "df = shuffle(df)\n",
    "df.reset_index(inplace=True, drop=True)"
   ]
  },
  {
   "cell_type": "code",
   "execution_count": 13,
   "id": "8eb62bec",
   "metadata": {},
   "outputs": [],
   "source": [
    "pickle.dump(df, open('./data/engagements.pckl', 'wb'))\n",
    "pickle.dump(columns, open('./data/columns.pckl', 'wb'))\n",
    "pickle.dump(dYaw_cols, open('./data/dYaw_cols.pckl', 'wb'))\n",
    "pickle.dump(dPitch_cols, open('./data/dPitch_cols.pckl', 'wb'))\n",
    "pickle.dump(ctvYaw_cols, open('./data/ctvYaw_cols.pckl', 'wb'))\n",
    "pickle.dump(ctvPitch_cols, open('./data/ctvPitch_cols.pckl', 'wb'))\n",
    "pickle.dump(firing_cols, open('./data/firing_cols.pckl', 'wb'))"
   ]
  }
 ],
 "metadata": {
  "kernelspec": {
   "display_name": "Python 3 (ipykernel)",
   "language": "python",
   "name": "python3"
  },
  "language_info": {
   "codemirror_mode": {
    "name": "ipython",
    "version": 3
   },
   "file_extension": ".py",
   "mimetype": "text/x-python",
   "name": "python",
   "nbconvert_exporter": "python",
   "pygments_lexer": "ipython3",
   "version": "3.10.0"
  }
 },
 "nbformat": 4,
 "nbformat_minor": 5
}
